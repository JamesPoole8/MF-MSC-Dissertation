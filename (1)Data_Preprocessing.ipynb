{
 "cells": [
  {
   "cell_type": "code",
   "execution_count": null,
   "id": "482d6bec-6e23-4a9e-acdb-eda8dfdd9b76",
   "metadata": {},
   "outputs": [],
   "source": [
    "# Import libraries\n",
    "import pandas as pd \n",
    "import numpy as np"
   ]
  },
  {
   "cell_type": "markdown",
   "id": "2977775f-4e4e-41e1-a3b3-0821244bd566",
   "metadata": {},
   "source": [
    "## Import and Sort FX Data"
   ]
  },
  {
   "cell_type": "code",
   "execution_count": null,
   "id": "5e86d150-dd9e-4c15-b8df-e9b80ae65926",
   "metadata": {},
   "outputs": [],
   "source": [
    "# Read in foreign exchange data\n",
    "fx = pd.read_csv('fxrates.csv', index_col='datadate')\n",
    "\n",
    "# Set index of forex data to datetime type\n",
    "fx.index = pd.to_datetime(fx.index)"
   ]
  },
  {
   "cell_type": "markdown",
   "id": "636eb106-8969-4ab5-8bb6-683b680ff4ae",
   "metadata": {},
   "source": [
    "## Import and Sort Fundamentals Data"
   ]
  },
  {
   "cell_type": "code",
   "execution_count": null,
   "id": "4332a44e-bab4-4df6-851c-ad51a2cbfce7",
   "metadata": {},
   "outputs": [],
   "source": [
    "# Get CSV of Global quarterly fundamentals\n",
    "fund = pd.read_csv('Global_Fund.csv', index_col= 'datadate')"
   ]
  },
  {
   "cell_type": "code",
   "execution_count": null,
   "id": "0bab6b66-6796-4828-9b1b-8ddcc9c762aa",
   "metadata": {},
   "outputs": [],
   "source": [
    "# Calculate other fundamentals\n",
    "fund['niq'] = fund['piq'] - fund['txtq'] # Net income\n",
    "fund['ebitda'] = fund['oiadpq'] + fund['dpq'] # EBITDA\n",
    "fund['fcfq'] = (fund['oancfy'] - fund['capxy']) / 4 # Free cash flow\n",
    "fund['capxq'] = fund['capxy'] / 4 # Capital expenditure\n",
    "fund['oancfq'] = fund['oancfy'] / 4 # Operating cash flow\n",
    "fund['fincfq'] = fund['fincfy'] / 4 # Financing cash flow\n",
    "fund['ivncfq'] = fund['ivncfy'] / 4 # Investing cash flow\n",
    "\n",
    "# Return ratios\n",
    "fund['roa'] = fund['niq'] / fund['atq'] # Return on assets\n",
    "fund['roe'] = fund['niq'] / fund['teqq'] # Return on equity\n",
    "fund['roi'] = (fund['niq'] + fund['xintq']) / (fund['atq'] - fund['lctq']) # Return on investment\n",
    "\n",
    "# Profit ratios\n",
    "fund['gpm'] = fund['gpq'] / fund['revtq'] # Gross profit margin\n",
    "fund['opm'] = fund['oiadpq'] / fund['revtq'] # Operating profit margin\n",
    "fund['npm'] = fund['niq'] / fund['revtq'] # Net profit margin\n",
    "                                               \n",
    "# Liquidity ratios                                               \n",
    "fund['cr'] = fund['actq'] / fund['lctq'] # Current ratio\n",
    "fund['qr'] = (fund['actq'] - fund['invtq']) / fund['lctq'] # Quick ratio\n",
    "                                               \n",
    "# Solvency ratios\n",
    "fund['de'] = fund['ltq'] / fund['teqq'] # Debt to equity ratio\n",
    "fund['icr'] = fund['oiadpq'] / fund['xintq'] # Interest coverage ratio\n",
    "\n",
    "# Efficiency ratios\n",
    "fund['atr'] = fund['revtq'] / fund['atq'] # Asset turnover ratio\n",
    "fund['itr'] = fund['cogsq'] / fund['invtq'] # Inventory turnover ratio\n",
    "\n",
    "# Operational gearing proxy\n",
    "fund['og'] = (fund['dpq'] + fund['xintq']) / (fund['cogsq'] + fund['dpq'] + fund['xintq'])\n",
    "\n",
    "# Growth metrics\n",
    "fund['rg'] = fund['revtq'].pct_change() # Revenue growth\n",
    "fund['eag'] = fund['niq'].pct_change() # Earnings growth\n",
    "fund['ag'] = fund['atq'].pct_change() # Asset growth\n",
    "fund['eqg'] = fund['teqq'].pct_change() # Equity growth\n",
    "\n",
    "# Quality of earnings metrics\n",
    "fund['acr'] = (fund['niq'] - fund['oancfq']) / fund['atq'] # Accruals ratio\n",
    "fund['cftnir'] = fund['oancfq'] / fund['niq'] # Cashflow to net income ratio"
   ]
  },
  {
   "cell_type": "code",
   "execution_count": null,
   "id": "607989bc-d71a-45d7-8b38-326678183e8b",
   "metadata": {},
   "outputs": [],
   "source": [
    "# Obtain EM data\n",
    "fund = fund[['conm','sedol','fic','curcdq',\n",
    "       'atq','apq','ltq','niq','oiadpq','revtq',\n",
    "       'chq','dpq','gpq','invtq','rectq','req',\n",
    "       'saleq','teqq','xintq','ebitda','fcfq','capxq',\n",
    "       'fincfq','ivncfq','oancfq','lctq','actq','cogsq',\n",
    "       'roa','roe','roi','gpm','opm','npm','cr','qr','de',\n",
    "       'icr','atr','itr','og','rg','eag','ag','eqg','acr','cftnir']]\n",
    "\n",
    "EM_countries = ['BRA', 'CHL', 'CHN', 'COL', 'CZE', 'EGY', 'GRC', 'HUN', 'IND', 'IDN', 'KOR', 'KWT', 'MYS', 'MEX', 'PER', 'PHL', 'POL', 'QAT', 'SAU', \n",
    "               'ZAF', 'TWN', 'THA', 'TUR', 'ARE']\n",
    "\n",
    "fund = fund[fund['fic'].isin(EM_countries)]\n",
    "\n",
    "fund.to_csv('EM_fund.csv',index=True)"
   ]
  },
  {
   "cell_type": "code",
   "execution_count": null,
   "id": "b08cc246-9314-4e93-9ee1-bcc748751122",
   "metadata": {},
   "outputs": [],
   "source": [
    "# Load fundamentals data for EM\n",
    "fund = pd.read_csv('EM_Fund.csv', index_col= 'datadate')\n",
    "\n",
    "# Make index into datetime type\n",
    "fund.index = pd.to_datetime(fund.index)\n",
    "\n",
    "# Sort the index\n",
    "fund = fund.sort_index()"
   ]
  },
  {
   "cell_type": "markdown",
   "id": "9045b971-2a6e-4279-a640-f42be7f341d5",
   "metadata": {},
   "source": [
    "### Convert currency for fundamental data"
   ]
  },
  {
   "cell_type": "code",
   "execution_count": null,
   "id": "fb2cc6d9-7741-4154-951c-82cd8c273ed4",
   "metadata": {},
   "outputs": [],
   "source": [
    "# Ensure the date columns are of datetime type\n",
    "fund.index = pd.to_datetime(fund.index)\n",
    "fx.index = pd.to_datetime(fx.index)\n",
    "\n",
    "# Get unique lists of financial data dates and forex dates\n",
    "fund_dates = fund.index.unique().tolist()\n",
    "fx_dates = fx.index.unique().tolist()\n",
    "\n",
    "# Find the forex date closest (but not after) to each financial data date\n",
    "date_mapping = {d: max([i for i in fx_dates if i <= d]) for d in fund_dates if len([i for i in fx_dates if i <= d]) > 0}\n",
    "\n",
    "# Add a column to the financial data for the mapped forex dates\n",
    "fund['fx_date'] = fund.index.map(date_mapping)"
   ]
  },
  {
   "cell_type": "code",
   "execution_count": null,
   "id": "32836c19-fd2d-482c-9d12-d7849a46d69a",
   "metadata": {},
   "outputs": [],
   "source": [
    "# Create a key to join fx and fund\n",
    "fx['key'] = fx.index.astype(str) + fx['curd']\n",
    "fund['key'] = fund['fx_date'].astype(str) + fund['curcdq']\n",
    "\n",
    "# Merge the forex rates with the financial data\n",
    "merged_fund = pd.merge(fund, fx, left_on='key', right_on='key', how='left')\n",
    "\n",
    "# Drop rows where exchange rate isn't available\n",
    "merged_fund = merged_fund[merged_fund['exratd_toUSD'].notna()]\n",
    "\n",
    "# Set exchange rate to 1 where currency is USD\n",
    "merged_fund.loc[merged_fund['curcdq'] == 'USD', 'exratd_toUSD'] = 1"
   ]
  },
  {
   "cell_type": "code",
   "execution_count": null,
   "id": "1243db41-7e5b-4b05-9834-991a0357f438",
   "metadata": {},
   "outputs": [],
   "source": [
    "# Define the columns that need to be converted to USD\n",
    "financial_columns = ['atq', 'apq', 'ltq', 'niq', 'oiadpq', 'revtq', 'chq', 'dpq', 'gpq', 'invtq', 'rectq', 'req',\n",
    "                     'saleq', 'teqq', 'xintq', 'ebitda', 'fcfq', 'capxq', 'fincfq', 'ivncfq', 'oancfq', 'lctq', 'actq', 'cogsq']\n",
    "\n",
    "# Convert the financial columns to USD using the exchange rate\n",
    "for col in financial_columns:\n",
    "    merged_fund[col] = merged_fund[col] * merged_fund['exratd_toUSD']\n",
    "\n",
    "# Drop unwanted columns\n",
    "merged_fund = merged_fund[['conm', 'sedol', 'fic', 'curcdq', 'atq', 'apq', 'ltq', 'niq', 'oiadpq', 'revtq',\n",
    "                           'chq', 'dpq', 'gpq', 'invtq', 'rectq', 'req', 'saleq', 'teqq', 'xintq', 'ebitda', 'fcfq', 'capxq',\n",
    "                           'fincfq', 'ivncfq', 'oancfq', 'lctq', 'actq', 'cogsq', 'roa', 'roe', 'roi', 'gpm', 'opm', 'npm', 'cr', 'qr', 'de',\n",
    "                           'icr', 'atr', 'itr', 'og', 'rg', 'eag', 'ag', 'eqg', 'acr', 'cftnir']]\n",
    "\n",
    "# Ensure the index is consistent \n",
    "merged_fund['datadate'] = fund.index[:len(merged_fund)]\n",
    "\n",
    "# Set index\n",
    "merged_fund.set_index('datadate', inplace=True)\n",
    "\n",
    "# Replace dataframe\n",
    "fund = merged_fund"
   ]
  },
  {
   "cell_type": "markdown",
   "id": "5e471f6d-1364-4783-81e1-a5c30fd9073b",
   "metadata": {},
   "source": [
    "### Standardise end-of-quarter dates"
   ]
  },
  {
   "cell_type": "code",
   "execution_count": null,
   "id": "2f7771be-77ff-405f-92c0-e0db5b02c392",
   "metadata": {},
   "outputs": [],
   "source": [
    "# Generate standard quarter-end dates\n",
    "standard_quarter_ends = pd.to_datetime([\n",
    " '2000-03-31', '2000-06-30', '2000-09-29', '2000-12-29', '2001-03-30', \n",
    " '2001-06-29', '2001-09-28', '2001-12-31', '2002-03-29', '2002-06-28', \n",
    " '2002-09-30', '2002-12-31', '2003-03-31', '2003-06-30', '2003-09-30', \n",
    " '2003-12-31', '2004-03-31', '2004-06-30', '2004-09-30', '2004-12-31', \n",
    " '2005-03-31', '2005-06-30', '2005-09-30', '2005-12-30', '2006-03-31', \n",
    " '2006-06-30', '2006-09-29', '2006-12-29', '2007-03-30', '2007-06-29', \n",
    " '2007-09-28', '2007-12-31', '2008-03-31', '2008-06-30', '2008-09-30', \n",
    " '2008-12-31', '2009-03-31', '2009-06-30', '2009-09-30', '2009-12-31', \n",
    " '2010-03-31', '2010-06-30', '2010-09-30', '2010-12-31', '2011-03-31', \n",
    " '2011-06-30', '2011-09-30', '2011-12-30', '2012-03-30', '2012-06-29', \n",
    " '2012-09-28', '2012-12-31', '2013-03-29', '2013-06-28', '2013-09-30', \n",
    " '2013-12-31', '2014-03-31', '2014-06-30', '2014-09-30', '2014-12-31', \n",
    " '2015-03-31', '2015-06-30', '2015-09-30', '2015-12-31', '2016-03-31', \n",
    " '2016-06-30', '2016-09-30', '2016-12-30', '2017-03-31', '2017-06-30', \n",
    " '2017-09-29', '2017-12-29', '2018-03-30', '2018-06-29', '2018-09-28', \n",
    " '2018-12-31', '2019-03-29', '2019-06-28', '2019-09-30', '2019-12-31', \n",
    " '2020-03-31', '2020-06-30', '2020-09-30', '2020-12-31', '2021-03-31', \n",
    " '2021-06-30', '2021-09-30', '2021-12-31', '2022-03-31', '2022-06-30', \n",
    " '2022-09-30', '2022-12-30', '2023-03-31', '2023-06-30','2023-09-30',\n",
    " '2023-12-31', '2024-03-31', '2024-06-30'])"
   ]
  },
  {
   "cell_type": "code",
   "execution_count": null,
   "id": "2c2e212d-0bb8-4a1f-bf28-22371b7f626a",
   "metadata": {},
   "outputs": [],
   "source": [
    "# Function to map to the nearest standard quarter end\n",
    "def map_to_nearest_quarter(date):\n",
    "    if date in standard_quarter_ends:\n",
    "        return date\n",
    "    else:\n",
    "        nearest_quarter = min(standard_quarter_ends, key=lambda x: abs(x - date))\n",
    "        return nearest_quarter\n",
    "\n",
    "# Apply the function to the index\n",
    "fund['date'] = fund.index.to_series().apply(map_to_nearest_quarter)\n",
    "\n",
    "# Set index to standardised dates\n",
    "fund.set_index('date', inplace=True)"
   ]
  },
  {
   "cell_type": "code",
   "execution_count": null,
   "id": "9faf5307-d052-420c-ab8f-9dc2c6cf106d",
   "metadata": {},
   "outputs": [],
   "source": [
    "# Filter the fund DataFrame to start from 2005-03-31\n",
    "start_date = '2005-03-31'\n",
    "fund = fund[fund.index >= start_date]\n",
    "\n",
    "# Sort the index\n",
    "fund = fund.sort_index()"
   ]
  },
  {
   "cell_type": "code",
   "execution_count": null,
   "id": "caca4268-5495-4d5f-936a-90215ec8c567",
   "metadata": {},
   "outputs": [],
   "source": [
    "# Save EM data with standardised dates\n",
    "fund.to_csv('Stand_EM_fund.csv',index=True)"
   ]
  },
  {
   "cell_type": "code",
   "execution_count": null,
   "id": "26ccbe1b-ea82-484e-96dc-fad29fde92c2",
   "metadata": {},
   "outputs": [],
   "source": [
    "# Obtain sedol list\n",
    "sedols = fund['sedol'].drop_duplicates()\n",
    "\n",
    "sedols.to_csv('sedols.csv',index=False)"
   ]
  },
  {
   "cell_type": "markdown",
   "id": "a1f676e7-abb4-4a93-a363-e6e2a504db08",
   "metadata": {},
   "source": [
    "## Import and Sort Price Data"
   ]
  },
  {
   "cell_type": "code",
   "execution_count": null,
   "id": "afd3f8ec-3e4c-4a19-87a3-a913d00fd621",
   "metadata": {},
   "outputs": [],
   "source": [
    "# Define the chunk size\n",
    "chunk_size = 100000 \n",
    "\n",
    "# Initialize an empty list to hold the chunks\n",
    "chunks = []\n",
    "\n",
    "# Define the data types for each column\n",
    "dtype = {\n",
    "    'datadate': str,\n",
    "    'conm': str,\n",
    "    'sedol': str,\n",
    "    'curcdd': str,\n",
    "    'prccd': float,\n",
    "    'prchd': float,\n",
    "    'prcld': float,\n",
    "    'cshtrd': float,\n",
    "    'cshoc': float\n",
    "}\n",
    "\n",
    "# Read the CSV file in chunks\n",
    "for chunk in pd.read_csv('EM_daily_price.csv', chunksize=chunk_size, dtype=dtype, index_col='datadate'):\n",
    "    chunks.append(chunk)\n",
    "\n",
    "# Concatenate all chunks into a single DataFrame\n",
    "df = pd.concat(chunks)\n",
    "\n",
    "# Convert datadate to datetime\n",
    "df.index = pd.to_datetime(df.index)"
   ]
  },
  {
   "cell_type": "code",
   "execution_count": null,
   "id": "50de8dd3-b956-41e9-8208-19265c68234f",
   "metadata": {},
   "outputs": [],
   "source": [
    "# Drop unwanted columns\n",
    "price = df[['conm','sedol','prccd','prchd','prcld','cshtrd','curcdd','cshoc']]"
   ]
  },
  {
   "cell_type": "code",
   "execution_count": null,
   "id": "572d7aa2-aef4-45ad-a414-1601610024c2",
   "metadata": {},
   "outputs": [],
   "source": [
    "# List of quarter end dates\n",
    "quarter_end_dates = pd.to_datetime([\n",
    " '2000-03-31', '2000-06-30', '2000-09-29', '2000-12-29', '2001-03-30', '2001-06-29', '2001-09-28', '2001-12-31', '2002-03-29', '2002-06-28', \n",
    " '2002-09-30', '2002-12-31', '2003-03-31', '2003-06-30', '2003-09-30', '2003-12-31', '2004-03-31', '2004-06-30', '2004-09-30', '2004-12-31', \n",
    " '2005-03-31', '2005-06-30', '2005-09-30', '2005-12-30', '2006-03-31', '2006-06-30', '2006-09-29', '2006-12-29', '2007-03-30', '2007-06-29', \n",
    " '2007-09-28', '2007-12-31', '2008-03-31', '2008-06-30', '2008-09-30', '2008-12-31', '2009-03-31', '2009-06-30', '2009-09-30', '2009-12-31', \n",
    " '2010-03-31', '2010-06-30', '2010-09-30', '2010-12-31', '2011-03-31', '2011-06-30', '2011-09-30', '2011-12-30', '2012-03-30', '2012-06-29', \n",
    " '2012-09-28', '2012-12-31', '2013-03-29', '2013-06-28', '2013-09-30', '2013-12-31', '2014-03-31', '2014-06-30', '2014-09-30', '2014-12-31', \n",
    " '2015-03-31', '2015-06-30', '2015-09-30', '2015-12-31', '2016-03-31', '2016-06-30', '2016-09-30', '2016-12-30', '2017-03-31', '2017-06-30', \n",
    " '2017-09-29', '2017-12-29', '2018-03-30', '2018-06-29', '2018-09-28', '2018-12-31', '2019-03-29', '2019-06-28', '2019-09-30', '2019-12-31', \n",
    " '2020-03-31', '2020-06-30', '2020-09-30', '2020-12-31', '2021-03-31', '2021-06-30', '2021-09-30', '2021-12-31', '2022-03-31', '2022-06-30', \n",
    " '2022-09-30', '2022-12-30', '2023-03-31', '2023-06-30','2023-09-30','2023-12-31', '2024-03-31', '2024-06-30'])"
   ]
  },
  {
   "cell_type": "code",
   "execution_count": null,
   "id": "2cfa913f-93fc-4f16-82bc-1142523b13e5",
   "metadata": {},
   "outputs": [],
   "source": [
    "# Adjust the quarter-end dates to the previous business day if they fall on a non-business day\n",
    "business_days = pd.bdate_range(price.index.min(), price.index.max())\n",
    "business_day_set = set(business_days)\n",
    "\n",
    "adjusted_dates = {}\n",
    "for date in quarter_end_dates:\n",
    "    if date in business_day_set:\n",
    "        adjusted_dates[date] = date\n",
    "    else:\n",
    "        # Adjust to the previous business day\n",
    "        adjusted_date = date\n",
    "        while adjusted_date not in business_day_set:\n",
    "            adjusted_date -= pd.Timedelta(days=1)\n",
    "            if adjusted_date < price.index.min():\n",
    "                break\n",
    "        if adjusted_date in business_day_set:\n",
    "            adjusted_dates[date] = adjusted_date\n",
    "\n",
    "# Filter the price data to include only the adjusted dates\n",
    "adjusted_dates_values = list(adjusted_dates.values())\n",
    "filtered_price = price[price.index.isin(adjusted_dates_values)].copy()\n",
    "\n",
    "# Map the filtered dates back to the original quarter-end dates\n",
    "date_mapping = {v: k for k, v in adjusted_dates.items()}\n",
    "filtered_price['original_date'] = filtered_price.index.map(date_mapping)\n",
    "filtered_price.set_index('original_date', inplace=True)"
   ]
  },
  {
   "cell_type": "code",
   "execution_count": null,
   "id": "a2b24fd4-8981-4766-acd0-2c3d2d9d3393",
   "metadata": {},
   "outputs": [],
   "source": [
    "price = filtered_price.copy()"
   ]
  },
  {
   "cell_type": "code",
   "execution_count": null,
   "id": "c797cd31-14b7-4deb-8e9a-474c4899a9ed",
   "metadata": {},
   "outputs": [],
   "source": [
    "price.index.name = 'datadate'"
   ]
  },
  {
   "cell_type": "code",
   "execution_count": null,
   "id": "9bbd2fd0-0640-40a5-99eb-03564491370f",
   "metadata": {},
   "outputs": [],
   "source": [
    "price = price[['conm','sedol','prccd','prchd','prcld','cshtrd','curcdd','cshoc']]"
   ]
  },
  {
   "cell_type": "markdown",
   "id": "01b3dd6d-b4cc-4793-8233-536f4fbe2068",
   "metadata": {},
   "source": [
    "### Convert Currency for Price Data"
   ]
  },
  {
   "cell_type": "code",
   "execution_count": null,
   "id": "07f9a1a9-05c6-42c0-81fd-d92abfd877f0",
   "metadata": {
    "tags": []
   },
   "outputs": [],
   "source": [
    "# Set index of forex data to datetime type\n",
    "fx.index = pd.to_datetime(fx.index)\n",
    "price.index = pd.to_datetime(price.index)\n",
    "\n",
    "# Get unique lists of price data dates and forex dates\n",
    "price_dates = price.index.unique().tolist()\n",
    "fx_dates = fx.index.unique().tolist()\n",
    "\n",
    "# Find the forex date closest (but not after) to each price data date\n",
    "date_mapping = {d: max([i for i in fx_dates if i <= d]) for d in price_dates if len([i for i in fx_dates if i <= d]) > 0}\n",
    "\n",
    "# Add a column to the price data for the mapped forex dates\n",
    "price['fx_date'] = price.index.map(date_mapping)\n",
    "\n",
    "# Ensure the correct column names for merging keys\n",
    "fx['key'] = fx.index.astype(str) + fx['curd']\n",
    "price['key'] = price['fx_date'].astype(str) + price['curcdd']"
   ]
  },
  {
   "cell_type": "code",
   "execution_count": null,
   "id": "389cb268-e822-440a-b8be-8ab7449582ab",
   "metadata": {},
   "outputs": [],
   "source": [
    "# Merge the forex rates with the price data\n",
    "merged_price = pd.merge(price, fx, left_on='key', right_on='key', how='left')\n",
    "\n",
    "# Drop rows where exchange rate isn't available\n",
    "merged_price = merged_price[merged_price['exratd_toUSD'].notna()]\n",
    "\n",
    "# Set exchange rate to 1 where currency is USD\n",
    "merged_price.loc[merged_price['curcdd'] == 'USD', 'exratd_toUSD'] = 1"
   ]
  },
  {
   "cell_type": "code",
   "execution_count": null,
   "id": "a6723043-2886-4edc-ade2-9d14a8c32b40",
   "metadata": {},
   "outputs": [],
   "source": [
    "# Define the columns that need to be converted to USD\n",
    "price_columns = ['prccd', 'prchd', 'prcld']\n",
    "\n",
    "# Convert the price columns to USD using the exchange rate\n",
    "for col in price_columns:\n",
    "    merged_price[col] = merged_price[col] * merged_price['exratd_toUSD']"
   ]
  },
  {
   "cell_type": "code",
   "execution_count": null,
   "id": "34f66289-36ca-4a90-8eff-be195af77cb5",
   "metadata": {},
   "outputs": [],
   "source": [
    "# Drop unwanted columns\n",
    "merged_price = merged_price[['conm', 'sedol', 'curcdd', 'prccd', 'prchd', 'prcld', 'cshtrd','cshoc','fx_date']]\n",
    "\n",
    "# Set index\n",
    "merged_price.set_index('fx_date', inplace=True)\n",
    "\n",
    "# Rename the index \n",
    "merged_price.index.name = 'datadate'"
   ]
  },
  {
   "cell_type": "code",
   "execution_count": null,
   "id": "a078b5e8-8fc2-4c35-a02b-7c10c3fe385b",
   "metadata": {},
   "outputs": [],
   "source": [
    "# Calculate Returns\n",
    "merged_price['return'] = merged_price.groupby('conm')['prccd'].pct_change()"
   ]
  },
  {
   "cell_type": "code",
   "execution_count": null,
   "id": "650c8f82-87cf-43e0-bcf6-96179fb83fae",
   "metadata": {},
   "outputs": [],
   "source": [
    "merged_price.to_csv('Quarterly_EM_price.csv',index=True)"
   ]
  },
  {
   "cell_type": "markdown",
   "id": "34d643a8-93f1-4346-8d3e-1d90dbdc5339",
   "metadata": {},
   "source": [
    "## Merge the Datasets"
   ]
  },
  {
   "cell_type": "code",
   "execution_count": null,
   "id": "27142f67-bd44-40a4-8efc-e06a4fbe1664",
   "metadata": {},
   "outputs": [],
   "source": [
    "# Load the OHLCV and Fundamental DataFrames\n",
    "ohlcv_df = pd.read_csv('Quarterly_EM_price.csv')\n",
    "fund_df = pd.read_csv('Stand_EM_fund.csv')"
   ]
  },
  {
   "cell_type": "code",
   "execution_count": null,
   "id": "d8920b3d-9e04-46ea-938a-c9db04051415",
   "metadata": {},
   "outputs": [],
   "source": [
    "# Convert the date columns to datetime format\n",
    "ohlcv_df['datadate'] = pd.to_datetime(ohlcv_df['datadate'])\n",
    "fund_df['date'] = pd.to_datetime(fund_df['date'])"
   ]
  },
  {
   "cell_type": "code",
   "execution_count": null,
   "id": "6202b1b0-3827-44c9-83b5-db1d8d8ee9ef",
   "metadata": {},
   "outputs": [],
   "source": [
    "# Create a composite key in both DataFrames\n",
    "ohlcv_df['merge_key'] = ohlcv_df['datadate'].astype(str) + '_' + ohlcv_df['conm'] + '_' + ohlcv_df['sedol']\n",
    "fund_df['merge_key'] = fund_df['date'].astype(str) + '_' + fund_df['conm'] + '_' + fund_df['sedol']\n",
    "\n",
    "# Set the merge keys as the index\n",
    "ohlcv_df.set_index('merge_key', inplace=True)\n",
    "fund_df.set_index('merge_key', inplace=True)\n",
    "\n",
    "# Merge the DataFrames on the merge key\n",
    "merged_df = pd.merge(ohlcv_df, fund_df, left_index=True, right_index=True, how='inner')\n",
    "\n",
    "# Reset the index to make the merged DataFrame easier to work with\n",
    "merged_df.reset_index(drop=True, inplace=True)"
   ]
  },
  {
   "cell_type": "code",
   "execution_count": null,
   "id": "100d6555-4f1c-4d39-a89f-15919dbcae54",
   "metadata": {},
   "outputs": [],
   "source": [
    "# Set index to standardised dates\n",
    "merged_df.set_index('datadate', inplace=True)"
   ]
  },
  {
   "cell_type": "code",
   "execution_count": null,
   "id": "5a958b50-51bd-4d6d-ba20-6f007e9b4b82",
   "metadata": {},
   "outputs": [],
   "source": [
    "# Drop unwanted columns from joined dataset\n",
    "columns_to_keep = [\n",
    "    'conm_x', 'sedol_x', 'curcdq', 'prccd', 'return', 'atq', 'apq', 'ltq', 'niq', \n",
    "    'oiadpq', 'revtq', 'dpq', 'gpq', 'invtq', 'rectq', 'saleq', 'teqq', 'xintq', \n",
    "    'ebitda', 'fcfq', 'fincfq', 'ivncfq', 'oancfq', 'lctq', 'actq', 'cogsq', 'roa', 'roe', \n",
    "    'roi', 'gpm', 'opm', 'npm', 'cr', 'qr', 'de', 'icr', 'atr', 'itr', 'og', 'rg', 'eag', 'ag', 'eqg', \n",
    "    'acr', 'cftnir', 'prchd', 'prcld', 'cshtrd','cshoc']\n",
    "\n",
    "data = merged_df[columns_to_keep]"
   ]
  },
  {
   "cell_type": "code",
   "execution_count": null,
   "id": "ccd1944c-2eec-433e-8e05-b21e66749929",
   "metadata": {},
   "outputs": [],
   "source": [
    "key_vars = ['conm_x', 'sedol_x', 'curcdq', 'actq', 'apq', 'atq',\n",
    "    'cogsq', 'dpq', 'gpq', 'invtq', 'lctq', 'ltq', 'oiadpq', 'niq',\n",
    "    'rectq', 'revtq', 'saleq', 'teqq', 'xintq',\n",
    "    'fincfq', 'ivncfq', 'oancfq', 'prchd', 'prcld', 'prccd', 'cshtrd','cshoc','return']\n",
    "\n",
    "# Drop rows where any of the key variables are NaN\n",
    "filtered_data = data.dropna(subset=key_vars)"
   ]
  },
  {
   "cell_type": "code",
   "execution_count": null,
   "id": "55783fd1-6d7f-417c-85ed-658db96c35da",
   "metadata": {},
   "outputs": [],
   "source": [
    "# Save data\n",
    "filtered_data.to_csv('Data.csv', index=True)"
   ]
  }
 ],
 "metadata": {
  "kernelspec": {
   "display_name": "Python 3 (ipykernel)",
   "language": "python",
   "name": "python3"
  },
  "language_info": {
   "codemirror_mode": {
    "name": "ipython",
    "version": 3
   },
   "file_extension": ".py",
   "mimetype": "text/x-python",
   "name": "python",
   "nbconvert_exporter": "python",
   "pygments_lexer": "ipython3",
   "version": "3.9.12"
  }
 },
 "nbformat": 4,
 "nbformat_minor": 5
}

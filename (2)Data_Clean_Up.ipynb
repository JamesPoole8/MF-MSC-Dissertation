{
 "cells": [
  {
   "cell_type": "code",
   "execution_count": null,
   "id": "1f32e8c6-7d12-455d-b273-be9684c3a2e5",
   "metadata": {},
   "outputs": [],
   "source": [
    "import pandas as pd\n",
    "import numpy as np"
   ]
  },
  {
   "cell_type": "code",
   "execution_count": null,
   "id": "82fcfd41-6ac7-412e-9f52-598bd386ecfe",
   "metadata": {},
   "outputs": [],
   "source": [
    "# Read in dataset from (1)\n",
    "df = pd.read_csv('Data.csv')"
   ]
  },
  {
   "cell_type": "code",
   "execution_count": null,
   "id": "b146df92-f15d-4bf9-b04c-cff8d46dd7c7",
   "metadata": {},
   "outputs": [],
   "source": [
    "# Change column names\n",
    "df.rename(columns = \n",
    "    {'datadate': 'Date', 'conm_x': 'Name', 'sedol_x': 'ID', 'curcdq': 'Currency', 'prccd': 'Price',\n",
    "    'atq': 'Total Assets', 'apq': 'Accounts Payable', 'ltq': 'Total Liabilities', 'niq': 'Net Income',\n",
    "    'oiadpq': 'EBIT', 'revtq': 'Revenue', 'dpq': 'Depreciation', 'gpq': 'Gross Profit',\n",
    "    'invtq': 'Inventories', 'rectq': 'Receivables', 'saleq': 'Sales/Turnover', 'teqq': 'Stockholders Equity',\n",
    "    'xintq': 'Interest Expense', 'ebitda': 'EBITDA', 'fcfq': 'Free Cash Flow', 'fincfq': 'Financing Cash Flow',\n",
    "    'ivncfq': 'Investing Cash Flow', 'oancfq': 'Operating Cash Flow', 'lctq': 'Current Liabilities', 'actq': 'Current Assets',\n",
    "    'cogsq': 'Cost of Goods Sold', 'roa': 'ROA', 'roe': 'ROE', 'roi': 'ROI',\n",
    "    'gpm': 'Gross Profit Margin', 'opm': 'Operating Profit Margin', 'npm': 'Net Profit Margin', 'cr': 'Current Ratio',\n",
    "    'qr': 'Quick Ratio', 'de': 'D/E Ratio', 'icr': 'Interest Coverage Ratio', 'atr': 'Asset Turnover Ratio',\n",
    "    'itr': 'Inventory Turnover Ratio', 'og': 'Operational Gearing', 'rg': 'Revenue Growth', 'eag': 'Earnings Growth',\n",
    "    'ag': 'Asset Growth', 'eqg': 'Equity Growth', 'acr': 'Accruals Ratio', 'cftnir': 'Cashflow to Net Income Ratio',\n",
    "    'prchd': 'High Price', 'prcld': 'Low Price', 'cshtrd': 'Volume', 'cshoc': 'Shares', 'return' : 'Return'}, inplace = True)"
   ]
  },
  {
   "cell_type": "code",
   "execution_count": null,
   "id": "7a26e4c3-5c70-4d07-b27a-4aaa3a3f9da1",
   "metadata": {},
   "outputs": [],
   "source": [
    "# Drop rows with the same name on the same date, keeping the first \n",
    "df = df.drop_duplicates(['Name','Date'],keep= 'first')"
   ]
  },
  {
   "cell_type": "code",
   "execution_count": null,
   "id": "403db2ac-2e96-40ed-9782-75f030cfda86",
   "metadata": {},
   "outputs": [],
   "source": [
    "# Set date to datetime type\n",
    "df['Date'] = pd.to_datetime(df['Date'])"
   ]
  },
  {
   "cell_type": "code",
   "execution_count": null,
   "id": "299d5636-a57f-4f58-9721-1108a2865283",
   "metadata": {},
   "outputs": [],
   "source": [
    "# Filter start and end date to remove NaNs\n",
    "start_date = pd.to_datetime('2010-03-31')\n",
    "end_date = pd.to_datetime('2023-12-31')\n",
    "\n",
    "df = df[(df['Date'] >= start_date) & (df['Date'] <= end_date)]"
   ]
  },
  {
   "cell_type": "code",
   "execution_count": null,
   "id": "d8f076a4-6a72-464b-b561-6932efc78884",
   "metadata": {},
   "outputs": [],
   "source": [
    "# Drop rows where certain columns are zero\n",
    "df = df[df['Revenue']!=0]\n",
    "df = df[df['Total Assets']!=0]\n",
    "df = df[df['Total Liabilities']!=0]\n",
    "df = df[df['Price']!=0]\n",
    "df = df[df['Shares']!=0]"
   ]
  },
  {
   "cell_type": "code",
   "execution_count": null,
   "id": "bf9a219a-c647-46a8-ad94-5a4edd65d902",
   "metadata": {},
   "outputs": [],
   "source": [
    "# Calculate sharehlders equity\n",
    "df['Equity'] = df['Total Assets'] - df['Total Liabilities']"
   ]
  },
  {
   "cell_type": "code",
   "execution_count": null,
   "id": "3f1c551e-5203-41f8-b710-8d6edf6e5f81",
   "metadata": {},
   "outputs": [],
   "source": [
    "# Calculate market cap\n",
    "df['Market Cap'] = df['Price']*df['Shares']"
   ]
  },
  {
   "cell_type": "markdown",
   "id": "a439bda1-6a75-41d4-85a3-e9d53c4dffbd",
   "metadata": {},
   "source": [
    "## Cap Returns to remove outliers"
   ]
  },
  {
   "cell_type": "code",
   "execution_count": null,
   "id": "2f918d45-5f4f-44d4-985f-f12e8f08e698",
   "metadata": {},
   "outputs": [],
   "source": [
    "# Set date to datetime type\n",
    "df['Date'] = pd.to_datetime(df['Date'])"
   ]
  },
  {
   "cell_type": "code",
   "execution_count": null,
   "id": "0526e237-1638-42a7-a7fe-1c8f1f51ee6f",
   "metadata": {},
   "outputs": [],
   "source": [
    "# Get unique list of dates\n",
    "dates1 = pd.to_datetime(df['Date'].unique().tolist())"
   ]
  },
  {
   "cell_type": "code",
   "execution_count": null,
   "id": "b29930f7-69da-48c2-bcb3-92607362a258",
   "metadata": {},
   "outputs": [],
   "source": [
    "# Find the 5th and 95th percentile of the returns at each quarter\n",
    "max_key = {}\n",
    "min_key = {}\n",
    "\n",
    "for d in dates1:\n",
    "    temp = df[df['Date']==d]\n",
    "    if len(temp['Return'].dropna())>0:\n",
    "        mx = np.percentile(temp['Return'].dropna(),95)\n",
    "        mn = np.percentile(temp['Return'].dropna(),5)\n",
    "    else:\n",
    "        mx = mn = np.nan\n",
    "    max_key[d] = mx\n",
    "    min_key[d] = mn"
   ]
  },
  {
   "cell_type": "code",
   "execution_count": null,
   "id": "356f09ce-76f4-4b26-a6d0-89c5504b79b5",
   "metadata": {},
   "outputs": [],
   "source": [
    "# Constrain returns between 5% and 95%\n",
    "for i in range(len(df)):\n",
    "    \n",
    "    date = df.iloc[i,0]\n",
    "\n",
    "    mx = max_key[date]\n",
    "    mn = min_key[date]\n",
    "    if df.iloc[i,5] > mx:\n",
    "        df.iloc[i,5] = mx\n",
    "    if df.iloc[i,5] < mn:\n",
    "        df.iloc[i,5] = mn"
   ]
  },
  {
   "cell_type": "markdown",
   "id": "46c872ca-e7fd-4175-8239-173bf837cc58",
   "metadata": {},
   "source": [
    "## Other Variables"
   ]
  },
  {
   "cell_type": "code",
   "execution_count": null,
   "id": "9802ae07-7163-4733-8f71-035dc55c8aaf",
   "metadata": {},
   "outputs": [],
   "source": [
    "# Drop rows with the same name on the same date, keeping the first \n",
    "df = df.drop_duplicates(['Name','Date'],keep= 'first')"
   ]
  },
  {
   "cell_type": "code",
   "execution_count": null,
   "id": "1d486bb2-d9f9-47e7-9392-e10c2255a955",
   "metadata": {},
   "outputs": [],
   "source": [
    "# Get mean return of market at each period. I.E. the market return\n",
    "market_ret = df.groupby('Date')['Return'].mean()"
   ]
  },
  {
   "cell_type": "code",
   "execution_count": null,
   "id": "d0204a0c-b1b7-4dcc-a8dc-be7c45d8ec74",
   "metadata": {},
   "outputs": [],
   "source": [
    "# Set index as date\n",
    "df.set_index('Date', inplace=True, drop=False)"
   ]
  },
  {
   "cell_type": "code",
   "execution_count": null,
   "id": "847a3690-6018-4b16-a6c5-f365dfa91af2",
   "metadata": {},
   "outputs": [],
   "source": [
    "# Join main data with the market mean return at each period\n",
    "df = df.join(market_ret, how='left' , lsuffix='', rsuffix='_Market')"
   ]
  },
  {
   "cell_type": "code",
   "execution_count": null,
   "id": "6e6a9678-6107-4603-93cf-645148935016",
   "metadata": {},
   "outputs": [],
   "source": [
    "# Calculate alpha\n",
    "df['Alpha'] = df['Return'] - df['Return_Market']"
   ]
  },
  {
   "cell_type": "code",
   "execution_count": null,
   "id": "841ec6f7-2219-48c0-93ca-0235d516fb27",
   "metadata": {},
   "outputs": [],
   "source": [
    "# Set index as id and sort the values by date then name\n",
    "df.set_index('ID', inplace=True, drop=False)\n",
    "df = df.sort_values(['Date','Name'], ascending=(True,True)).reset_index(drop=True)"
   ]
  },
  {
   "cell_type": "code",
   "execution_count": null,
   "id": "7d1b5128-f160-4a85-962f-e1d0d690f42e",
   "metadata": {},
   "outputs": [],
   "source": [
    "# Get rolling mean return and volatility of returns\n",
    "grouped = df.groupby('Name')\n",
    "df['Mean_Return'] = grouped['Return'].rolling(window=12, min_periods=4).mean().reset_index(0, drop=True)\n",
    "df['Volatility'] = grouped['Return'].rolling(window=12, min_periods=4).std().reset_index(0, drop=True)"
   ]
  },
  {
   "cell_type": "code",
   "execution_count": null,
   "id": "47b97a88-618d-4d7a-b173-e29725df0be0",
   "metadata": {},
   "outputs": [],
   "source": [
    "# sort values by name then date\n",
    "df = df.sort_values(['Name','Date'], ascending=(True,True))"
   ]
  },
  {
   "cell_type": "markdown",
   "id": "3f3931fc-969c-4c91-9f4a-af20780952b4",
   "metadata": {},
   "source": [
    "### Risk-free Rate"
   ]
  },
  {
   "cell_type": "code",
   "execution_count": null,
   "id": "037258dc-e027-47e0-8d1e-607dd42301d8",
   "metadata": {},
   "outputs": [],
   "source": [
    "# Read EM data to obtain risk-free rate\n",
    "rf = pd.read_csv('EM_factors.csv', index_col='Date')"
   ]
  },
  {
   "cell_type": "code",
   "execution_count": null,
   "id": "8fdced29-a5df-4bef-8784-a64173dbd520",
   "metadata": {},
   "outputs": [],
   "source": [
    "rf.index = pd.to_datetime(rf.index, format='%Y%m')\n",
    "rf['RF'] = rf['RF'] / 100  # Convert RF to decimal "
   ]
  },
  {
   "cell_type": "code",
   "execution_count": null,
   "id": "c90853d8-77dd-47b2-96a9-7ec860cddac0",
   "metadata": {},
   "outputs": [],
   "source": [
    "df1 = df"
   ]
  },
  {
   "cell_type": "code",
   "execution_count": null,
   "id": "7fad2d3f-77a9-4cba-a76c-d3d5ecae6f64",
   "metadata": {},
   "outputs": [],
   "source": [
    "# Calculate the quarterly risk-free rate\n",
    "rf['RF'] = rf['RF'] + 1\n",
    "quarterly_rf = rf['RF'].resample('Q').apply(lambda x: x.prod() - 1).reset_index()\n",
    "quarterly_rf.columns = ['Date', 'RF']\n",
    "\n",
    "# Ensure the Date column is normalized to remove any time component\n",
    "quarterly_rf['Date'] = quarterly_rf['Date'].dt.normalize()\n",
    "\n",
    "df1['Date'] = pd.to_datetime(df1['Date'])\n",
    "\n",
    "# Create a mapping of the closest quarterly dates to the main dataset dates\n",
    "unique_dates = sorted(df1['Date'].unique())\n",
    "date_mapping = {}\n",
    "for date in unique_dates:\n",
    "    closest_date = min(quarterly_rf['Date'], key=lambda x: abs(x - date))\n",
    "    date_mapping[date] = closest_date\n",
    "\n",
    "# Add a new column to the main dataset for the mapped dates\n",
    "df1['Mapped_Date'] = df1['Date'].map(date_mapping)\n",
    "\n",
    "# Merge the quarterly risk-free rates with the main dataset\n",
    "merged_df = pd.merge(df1, quarterly_rf, left_on='Mapped_Date', right_on='Date', how='left')\n",
    "\n",
    "# Drop the temporary 'Mapped_Date' and duplicate 'Date' columns\n",
    "merged_df.drop(columns=['Mapped_Date', 'Date_y'], inplace=True)\n",
    "merged_df.rename(columns={'Date_x': 'Date'}, inplace=True)"
   ]
  },
  {
   "cell_type": "code",
   "execution_count": null,
   "id": "63677930-c81e-4371-9036-4cecaf189e11",
   "metadata": {},
   "outputs": [],
   "source": [
    "df = merged_df"
   ]
  },
  {
   "cell_type": "code",
   "execution_count": null,
   "id": "7046ae38-f14d-428b-843e-ae217c3e5a18",
   "metadata": {},
   "outputs": [],
   "source": [
    "# Calculate excess returns\n",
    "df['Excess Return'] = df['Return'] - df['RF']"
   ]
  },
  {
   "cell_type": "code",
   "execution_count": null,
   "id": "1b2a5fee-0d80-47f9-8837-c6470607e437",
   "metadata": {},
   "outputs": [],
   "source": [
    "columns = [\n",
    "    'Date', 'Name', 'ID', 'Currency', 'Price', 'Total Assets', 'Accounts Payable', \n",
    "    'Total Liabilities', 'Net Income', 'EBIT', 'Revenue', 'Depreciation', \n",
    "    'Gross Profit', 'Inventories', 'Receivables', 'Sales/Turnover', \n",
    "    'Stockholders Equity', 'Interest Expense', 'EBITDA', 'Free Cash Flow', \n",
    "    'Financing Cash Flow', 'Investing Cash Flow', 'Operating Cash Flow', \n",
    "    'Current Liabilities', 'Current Assets', 'Cost of Goods Sold', 'ROA', \n",
    "    'ROE', 'ROI', 'Gross Profit Margin', 'Operating Profit Margin', \n",
    "    'Net Profit Margin', 'Current Ratio', 'Quick Ratio', 'D/E Ratio', \n",
    "    'Interest Coverage Ratio', 'Asset Turnover Ratio', 'Inventory Turnover Ratio', \n",
    "    'Operational Gearing', 'Revenue Growth', 'Earnings Growth', 'Asset Growth', \n",
    "    'Equity Growth', 'Accruals Ratio', 'Cashflow to Net Income Ratio', 'High Price', \n",
    "    'Low Price', 'Volume', 'Shares', 'Equity', 'Market Cap', 'Return', 'Return_Market',\n",
    "    'Alpha', 'Mean_Return', 'Volatility', 'Excess Return', 'RF'\n",
    "]"
   ]
  },
  {
   "cell_type": "code",
   "execution_count": null,
   "id": "eb850fff-13ec-425f-adf3-f96d9738ca0c",
   "metadata": {},
   "outputs": [],
   "source": [
    "df = df[columns]"
   ]
  },
  {
   "cell_type": "markdown",
   "id": "9fe3563e-0f54-43f9-a89d-cc498b9d47c4",
   "metadata": {},
   "source": [
    "## Shift Returns"
   ]
  },
  {
   "cell_type": "code",
   "execution_count": null,
   "id": "40c55fcc-bd3c-472e-b35f-23e4c5898ea1",
   "metadata": {},
   "outputs": [],
   "source": [
    "df2 = df"
   ]
  },
  {
   "cell_type": "code",
   "execution_count": null,
   "id": "1cefd4f8-e256-47d9-9f48-cae00fd119d8",
   "metadata": {},
   "outputs": [],
   "source": [
    "df2['Date'] = pd.to_datetime(df2['Date'])\n",
    "\n",
    "# Sort values by 'Name' and 'Date'\n",
    "df2 = df2.sort_values(['Name', 'Date'], ascending=[True, True])\n",
    "\n",
    "# Shift the 'Return' and 'Excess Return' columns one period backward for each 'Name'\n",
    "df2['Return_adjusted'] = df2.groupby('Name')['Return'].shift(-1)\n",
    "df2['RF_adjusted'] = df2.groupby('Name')['RF'].shift(-1)\n",
    "df2['Excess_Return_adjusted'] = df2.groupby('Name')['Excess Return'].shift(-1)"
   ]
  },
  {
   "cell_type": "code",
   "execution_count": null,
   "id": "41162767-d53a-44bc-89fb-cc8fd7ff3070",
   "metadata": {},
   "outputs": [],
   "source": [
    "df = df2"
   ]
  },
  {
   "cell_type": "markdown",
   "id": "ab5f03d2-31a3-4771-9aff-111f92c9ea26",
   "metadata": {
    "tags": []
   },
   "source": [
    "## Finishing Touches"
   ]
  },
  {
   "cell_type": "code",
   "execution_count": null,
   "id": "335ceada-87de-464e-8c80-08c183cfc5f8",
   "metadata": {},
   "outputs": [],
   "source": [
    "df.index = df['Date']"
   ]
  },
  {
   "cell_type": "code",
   "execution_count": null,
   "id": "83a5968a-b5e4-4b02-a43d-0fbbfb30ca5e",
   "metadata": {},
   "outputs": [],
   "source": [
    "# Drop rows with NaN values in any of the specified columns\n",
    "df = df.dropna(subset=columns)\n",
    "df = df.dropna(subset=['Return_adjusted', 'RF_adjusted', 'Excess_Return_adjusted'])"
   ]
  },
  {
   "cell_type": "code",
   "execution_count": null,
   "id": "12e18590-ac94-449f-a59e-52fb56e96f5c",
   "metadata": {},
   "outputs": [],
   "source": [
    "df = df[['Date', 'Name', 'ID', 'Currency', 'Price', 'Total Assets', 'Accounts Payable', \n",
    "    'Total Liabilities', 'Net Income', 'EBIT', 'Depreciation', \n",
    "    'Gross Profit', 'Inventories', 'Receivables', 'Sales/Turnover', \n",
    "    'Stockholders Equity', 'Interest Expense', 'EBITDA', 'Free Cash Flow', \n",
    "    'Financing Cash Flow', 'Investing Cash Flow', 'Operating Cash Flow', \n",
    "    'Current Liabilities', 'Current Assets', 'Cost of Goods Sold', 'ROA', \n",
    "    'ROE', 'ROI', 'Gross Profit Margin', 'Operating Profit Margin', \n",
    "    'Net Profit Margin', 'Current Ratio', 'Quick Ratio', 'D/E Ratio', \n",
    "    'Interest Coverage Ratio', 'Asset Turnover Ratio', 'Inventory Turnover Ratio', \n",
    "    'Operational Gearing', 'Revenue Growth', 'Earnings Growth', 'Asset Growth', \n",
    "    'Equity Growth', 'Accruals Ratio', 'Cashflow to Net Income Ratio', 'High Price', \n",
    "    'Low Price', 'Volume', 'Shares', 'Equity', 'Market Cap',\n",
    "    'Alpha', 'Mean_Return', 'Volatility', 'Excess_Return_adjusted', 'RF_adjusted', 'Return_adjusted']]"
   ]
  },
  {
   "cell_type": "code",
   "execution_count": null,
   "id": "9771ff7e-3c55-4fe2-aa0d-191eab537bbe",
   "metadata": {},
   "outputs": [],
   "source": [
    "# Drop rows where name is duplicated on the same date and keep the first\n",
    "df = df.drop_duplicates(['Name','Date'],keep= 'first')"
   ]
  },
  {
   "cell_type": "code",
   "execution_count": null,
   "id": "2c05b022-ddf0-4675-b135-0d214aa5884d",
   "metadata": {},
   "outputs": [],
   "source": [
    "# Reset index of main data\n",
    "df = df.reset_index(drop=True)"
   ]
  },
  {
   "cell_type": "code",
   "execution_count": null,
   "id": "d55cad0c-e6ba-4d0b-9c17-65a6bcd9cae7",
   "metadata": {},
   "outputs": [],
   "source": [
    "# Sort values by name and then date\n",
    "df = df.sort_values(['Name','Date'], ascending=(True,True)).reset_index(drop=True)"
   ]
  },
  {
   "cell_type": "code",
   "execution_count": null,
   "id": "3727162d-c974-48ec-afe9-b6a0d8ab8b38",
   "metadata": {},
   "outputs": [],
   "source": [
    "# Drop rows with +-inf\n",
    "specified_columns = ['Interest Coverage Ratio', 'Inventory Turnover Ratio', \n",
    "                     'Revenue Growth', 'Earnings Growth', 'Cashflow to Net Income Ratio']\n",
    "\n",
    "for col in specified_columns:\n",
    "    df = df[~np.isinf(df3[col])]"
   ]
  },
  {
   "cell_type": "code",
   "execution_count": null,
   "id": "06a00872-8611-4f63-af7d-3796fcf707f4",
   "metadata": {},
   "outputs": [],
   "source": [
    "df.to_csv(\"EM_universe.csv\", index = False)"
   ]
  }
 ],
 "metadata": {
  "kernelspec": {
   "display_name": "Python 3 (ipykernel)",
   "language": "python",
   "name": "python3"
  },
  "language_info": {
   "codemirror_mode": {
    "name": "ipython",
    "version": 3
   },
   "file_extension": ".py",
   "mimetype": "text/x-python",
   "name": "python",
   "nbconvert_exporter": "python",
   "pygments_lexer": "ipython3",
   "version": "3.9.12"
  }
 },
 "nbformat": 4,
 "nbformat_minor": 5
}
